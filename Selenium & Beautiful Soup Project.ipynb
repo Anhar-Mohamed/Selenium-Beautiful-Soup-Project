{
 "cells": [
  {
   "cell_type": "markdown",
   "id": "9a2b83fb",
   "metadata": {},
   "source": [
    "#### Imports"
   ]
  },
  {
   "cell_type": "code",
   "execution_count": 1,
   "id": "cceabfa3",
   "metadata": {},
   "outputs": [],
   "source": [
    "from selenium import webdriver\n",
    "from selenium.webdriver.support.ui import Select\n",
    "import pandas as pd\n",
    "import time\n",
    "from bs4 import BeautifulSoup\n",
    "import requests"
   ]
  },
  {
   "cell_type": "markdown",
   "id": "9c7d9f71",
   "metadata": {},
   "source": [
    "#### Part 1-Browser Automation With Selenium"
   ]
  },
  {
   "cell_type": "code",
   "execution_count": 2,
   "id": "58953254",
   "metadata": {},
   "outputs": [],
   "source": [
    "website = \"https://imdb.com\"\n",
    "driver = webdriver.Chrome()\n",
    "driver.get(website)\n",
    "\n",
    "#maximize window\n",
    "#driver.maximize_window()\n",
    "\n",
    "#dropdown\n",
    "dropdown = driver.find_element(\"id\",\"iconContext-arrow-drop-down\")\n",
    "dropdown.click()\n",
    "time.sleep(1)\n",
    "\n",
    "#click on Advanced Search from dropdown menu\n",
    "element = driver.find_element(\"link text\",\"Advanced Search\")\n",
    "element.click()\n",
    "\n",
    "#click on advanced title search\n",
    "adv_title = driver.find_element(\"link text\",\"Advanced Title Search\")\n",
    "adv_title.click()\n",
    "\n",
    "#select feature film\n",
    "feature_film = driver.find_element(\"id\",\"title_type-1\")\n",
    "feature_film.click()\n",
    "\n",
    "#select tv moive\n",
    "tv_moive = driver.find_element(\"id\",\"title_type-2\")\n",
    "tv_moive.click()\n",
    "\n",
    "#min date\n",
    "min_date = driver.find_element(\"name\",\"release_date-min\")\n",
    "min_date.click()\n",
    "min_date.send_keys(\"1990\")\n",
    "\n",
    "#max date\n",
    "max_date = driver.find_element(\"name\",\"release_date-max\")\n",
    "max_date.click()\n",
    "max_date.send_keys(\"2022\")\n",
    "\n",
    "#min rating\n",
    "min_rating = Select(driver.find_element(\"name\",\"user_rating-min\"))\n",
    "min_rating.select_by_visible_text(\"1.0\")\n",
    "\n",
    "#max rating\n",
    "max_rating = Select(driver.find_element(\"name\",\"user_rating-max\"))\n",
    "max_rating.select_by_visible_text(\"10\")\n",
    "\n",
    "#Select Oscar-Nominated\n",
    "oscar_nominated = driver.find_element(\"id\",\"groups-7\")\n",
    "oscar_nominated.click()\n",
    "\n",
    "#Select color\n",
    "color = driver.find_element(\"id\",\"colors-1\")\n",
    "color.click()\n",
    "\n",
    "#Select English Language\n",
    "language = Select(driver.find_element(\"name\",\"languages\"))\n",
    "language.select_by_visible_text(\"English\")\n",
    "\n",
    "#Select display option\n",
    "display_count = Select(driver.find_element(\"id\",\"search-count\"))\n",
    "display_count.select_by_visible_text(\"250 per page\")\n",
    "\n",
    "#click on search button\n",
    "search = driver.find_element(\"xpath\",'(//button[@type=\"submit\"])[2]')\n",
    "search.click()\n",
    "\n",
    "#save current url\n",
    "current_url = driver.current_url"
   ]
  },
  {
   "cell_type": "code",
   "execution_count": 3,
   "id": "eefc89cf",
   "metadata": {},
   "outputs": [
    {
     "data": {
      "text/plain": [
       "'https://www.imdb.com/search/title/?title_type=feature,tv_movie&release_date=1990-01-01,2022-12-31&user_rating=1.0,10.0&groups=oscar_nominee&colors=color&languages=en&count=250'"
      ]
     },
     "execution_count": 3,
     "metadata": {},
     "output_type": "execute_result"
    }
   ],
   "source": [
    "current_url"
   ]
  },
  {
   "cell_type": "markdown",
   "id": "f3f14f7b",
   "metadata": {},
   "source": [
    "#### Part 2-Data Extraction With Beautiful Soup"
   ]
  },
  {
   "cell_type": "code",
   "execution_count": 4,
   "id": "4d89e712",
   "metadata": {},
   "outputs": [],
   "source": [
    "#get request\n",
    "response = requests.get(current_url)"
   ]
  },
  {
   "cell_type": "code",
   "execution_count": 5,
   "id": "3174ca89",
   "metadata": {},
   "outputs": [
    {
     "data": {
      "text/plain": [
       "200"
      ]
     },
     "execution_count": 5,
     "metadata": {},
     "output_type": "execute_result"
    }
   ],
   "source": [
    "#check the status code\n",
    "response.status_code"
   ]
  },
  {
   "cell_type": "code",
   "execution_count": 6,
   "id": "95585570",
   "metadata": {},
   "outputs": [],
   "source": [
    "soup = BeautifulSoup(response.content, \"html.parser\")"
   ]
  },
  {
   "cell_type": "code",
   "execution_count": 7,
   "id": "b780cc36",
   "metadata": {},
   "outputs": [],
   "source": [
    "#list of items\n",
    "results = soup.find_all(\"div\",class_=\"lister-item mode-advanced\")"
   ]
  },
  {
   "cell_type": "code",
   "execution_count": 8,
   "id": "768615d7",
   "metadata": {},
   "outputs": [
    {
     "data": {
      "text/plain": [
       "250"
      ]
     },
     "execution_count": 8,
     "metadata": {},
     "output_type": "execute_result"
    }
   ],
   "source": [
    "#check length of results\n",
    "len(results)"
   ]
  },
  {
   "cell_type": "markdown",
   "id": "9c8e7758",
   "metadata": {},
   "source": [
    "#### Data We Need To Extract"
   ]
  },
  {
   "cell_type": "markdown",
   "id": "c095359b",
   "metadata": {},
   "source": [
    "- Movie Title\n",
    "- Year\n",
    "- Durtion\n",
    "- Genre\n",
    "- Rating \n",
    "- Gross"
   ]
  },
  {
   "cell_type": "code",
   "execution_count": 9,
   "id": "a1ebab23",
   "metadata": {},
   "outputs": [
    {
     "data": {
      "text/plain": [
       "'Everything Everywhere All at Once'"
      ]
     },
     "execution_count": 9,
     "metadata": {},
     "output_type": "execute_result"
    }
   ],
   "source": [
    "#movie title\n",
    "results[0].find(\"h3\",class_=\"lister-item-header\").find(\"a\").get_text()"
   ]
  },
  {
   "cell_type": "code",
   "execution_count": 10,
   "id": "afe88d61",
   "metadata": {},
   "outputs": [
    {
     "data": {
      "text/plain": [
       "'2022'"
      ]
     },
     "execution_count": 10,
     "metadata": {},
     "output_type": "execute_result"
    }
   ],
   "source": [
    "#year\n",
    "results[0].find(\"h3\",class_=\"lister-item-header\").find_all(\"span\")[1].get_text().replace(\"(\",\"\").replace(\")\",\"\")"
   ]
  },
  {
   "cell_type": "code",
   "execution_count": 11,
   "id": "a0e9581d",
   "metadata": {},
   "outputs": [
    {
     "data": {
      "text/plain": [
       "'139 min'"
      ]
     },
     "execution_count": 11,
     "metadata": {},
     "output_type": "execute_result"
    }
   ],
   "source": [
    "#duration\n",
    "results[0].find(\"span\",class_=\"runtime\").get_text()"
   ]
  },
  {
   "cell_type": "code",
   "execution_count": 12,
   "id": "1b65a2f1",
   "metadata": {},
   "outputs": [
    {
     "data": {
      "text/plain": [
       "'Action, Adventure, Comedy'"
      ]
     },
     "execution_count": 12,
     "metadata": {},
     "output_type": "execute_result"
    }
   ],
   "source": [
    "#genre\n",
    "results[0].find(\"span\",class_=\"genre\").get_text().strip()"
   ]
  },
  {
   "cell_type": "code",
   "execution_count": 13,
   "id": "93743fad",
   "metadata": {},
   "outputs": [
    {
     "data": {
      "text/plain": [
       "'7.9'"
      ]
     },
     "execution_count": 13,
     "metadata": {},
     "output_type": "execute_result"
    }
   ],
   "source": [
    "#rating\n",
    "results[0].find(\"div\",class_=\"inline-block\").find(\"strong\").get_text()"
   ]
  },
  {
   "cell_type": "code",
   "execution_count": 14,
   "id": "0111bedd",
   "metadata": {},
   "outputs": [
    {
     "data": {
      "text/plain": [
       "'$72.86M'"
      ]
     },
     "execution_count": 14,
     "metadata": {},
     "output_type": "execute_result"
    }
   ],
   "source": [
    "#gross\n",
    "results[0].find(\"p\",class_=\"sort-num_votes-visible\").find_all(\"span\")[-1].get_text()"
   ]
  },
  {
   "cell_type": "code",
   "execution_count": 15,
   "id": "c53c06c9",
   "metadata": {},
   "outputs": [],
   "source": [
    "#list comperhension\n",
    "moive_title = [result.find(\"h3\",class_=\"lister-item-header\").find(\"a\").get_text() for result in results]\n",
    "year = [result.find(\"h3\",class_=\"lister-item-header\").find_all(\"span\")[1].get_text().replace(\"(\",\"\").replace(\")\",\"\") for result in results]\n",
    "duration = [result.find(\"span\",class_=\"runtime\").get_text() for result in results]\n",
    "genre = [result.find(\"span\",class_=\"genre\").get_text().strip() for result in results]\n",
    "rating = [result.find(\"div\",class_=\"inline-block\").find(\"strong\").get_text() for result in results]\n",
    "gross = [result.find(\"p\",class_=\"sort-num_votes-visible\").find_all(\"span\")[-1].get_text() for result in results]"
   ]
  },
  {
   "cell_type": "code",
   "execution_count": 16,
   "id": "52dc8521",
   "metadata": {},
   "outputs": [],
   "source": [
    "#create DataFrame\n",
    "imdb_df = pd.DataFrame({\"Moive_Title\":moive_title,\"Year\":year,\"Durtion\":duration,\"Genre\":genre,\"Rating\":rating,\"Gross\":gross})"
   ]
  },
  {
   "cell_type": "code",
   "execution_count": 17,
   "id": "5ddd5f26",
   "metadata": {},
   "outputs": [
    {
     "data": {
      "text/html": [
       "<div>\n",
       "<style scoped>\n",
       "    .dataframe tbody tr th:only-of-type {\n",
       "        vertical-align: middle;\n",
       "    }\n",
       "\n",
       "    .dataframe tbody tr th {\n",
       "        vertical-align: top;\n",
       "    }\n",
       "\n",
       "    .dataframe thead th {\n",
       "        text-align: right;\n",
       "    }\n",
       "</style>\n",
       "<table border=\"1\" class=\"dataframe\">\n",
       "  <thead>\n",
       "    <tr style=\"text-align: right;\">\n",
       "      <th></th>\n",
       "      <th>Moive_Title</th>\n",
       "      <th>Year</th>\n",
       "      <th>Durtion</th>\n",
       "      <th>Genre</th>\n",
       "      <th>Rating</th>\n",
       "      <th>Gross</th>\n",
       "    </tr>\n",
       "  </thead>\n",
       "  <tbody>\n",
       "    <tr>\n",
       "      <th>0</th>\n",
       "      <td>Everything Everywhere All at Once</td>\n",
       "      <td>2022</td>\n",
       "      <td>139 min</td>\n",
       "      <td>Action, Adventure, Comedy</td>\n",
       "      <td>7.9</td>\n",
       "      <td>$72.86M</td>\n",
       "    </tr>\n",
       "    <tr>\n",
       "      <th>1</th>\n",
       "      <td>The Whale</td>\n",
       "      <td>2022</td>\n",
       "      <td>117 min</td>\n",
       "      <td>Drama</td>\n",
       "      <td>7.8</td>\n",
       "      <td>111,780</td>\n",
       "    </tr>\n",
       "    <tr>\n",
       "      <th>2</th>\n",
       "      <td>The Banshees of Inisherin</td>\n",
       "      <td>2022</td>\n",
       "      <td>114 min</td>\n",
       "      <td>Comedy, Drama</td>\n",
       "      <td>7.7</td>\n",
       "      <td>182,267</td>\n",
       "    </tr>\n",
       "    <tr>\n",
       "      <th>3</th>\n",
       "      <td>Triangle of Sadness</td>\n",
       "      <td>2022</td>\n",
       "      <td>147 min</td>\n",
       "      <td>Comedy, Drama</td>\n",
       "      <td>7.4</td>\n",
       "      <td>114,249</td>\n",
       "    </tr>\n",
       "    <tr>\n",
       "      <th>4</th>\n",
       "      <td>Babylon</td>\n",
       "      <td>I 2022</td>\n",
       "      <td>189 min</td>\n",
       "      <td>Comedy, Drama, History</td>\n",
       "      <td>7.2</td>\n",
       "      <td>99,112</td>\n",
       "    </tr>\n",
       "    <tr>\n",
       "      <th>...</th>\n",
       "      <td>...</td>\n",
       "      <td>...</td>\n",
       "      <td>...</td>\n",
       "      <td>...</td>\n",
       "      <td>...</td>\n",
       "      <td>...</td>\n",
       "    </tr>\n",
       "    <tr>\n",
       "      <th>245</th>\n",
       "      <td>The Addams Family</td>\n",
       "      <td>1991</td>\n",
       "      <td>99 min</td>\n",
       "      <td>Comedy, Fantasy</td>\n",
       "      <td>6.9</td>\n",
       "      <td>$113.50M</td>\n",
       "    </tr>\n",
       "    <tr>\n",
       "      <th>246</th>\n",
       "      <td>Ad Astra</td>\n",
       "      <td>2019</td>\n",
       "      <td>123 min</td>\n",
       "      <td>Adventure, Drama, Mystery</td>\n",
       "      <td>6.5</td>\n",
       "      <td>$50.19M</td>\n",
       "    </tr>\n",
       "    <tr>\n",
       "      <th>247</th>\n",
       "      <td>Tron</td>\n",
       "      <td>2010</td>\n",
       "      <td>125 min</td>\n",
       "      <td>Action, Adventure, Sci-Fi</td>\n",
       "      <td>6.8</td>\n",
       "      <td>$172.06M</td>\n",
       "    </tr>\n",
       "    <tr>\n",
       "      <th>248</th>\n",
       "      <td>Guardians of the Galaxy Vol. 2</td>\n",
       "      <td>2017</td>\n",
       "      <td>136 min</td>\n",
       "      <td>Action, Adventure, Comedy</td>\n",
       "      <td>7.6</td>\n",
       "      <td>$389.81M</td>\n",
       "    </tr>\n",
       "    <tr>\n",
       "      <th>249</th>\n",
       "      <td>Blue Valentine</td>\n",
       "      <td>2010</td>\n",
       "      <td>112 min</td>\n",
       "      <td>Drama, Romance</td>\n",
       "      <td>7.3</td>\n",
       "      <td>$9.74M</td>\n",
       "    </tr>\n",
       "  </tbody>\n",
       "</table>\n",
       "<p>250 rows × 6 columns</p>\n",
       "</div>"
      ],
      "text/plain": [
       "                           Moive_Title    Year  Durtion  \\\n",
       "0    Everything Everywhere All at Once    2022  139 min   \n",
       "1                            The Whale    2022  117 min   \n",
       "2            The Banshees of Inisherin    2022  114 min   \n",
       "3                  Triangle of Sadness    2022  147 min   \n",
       "4                              Babylon  I 2022  189 min   \n",
       "..                                 ...     ...      ...   \n",
       "245                  The Addams Family    1991   99 min   \n",
       "246                           Ad Astra    2019  123 min   \n",
       "247                               Tron    2010  125 min   \n",
       "248     Guardians of the Galaxy Vol. 2    2017  136 min   \n",
       "249                     Blue Valentine    2010  112 min   \n",
       "\n",
       "                         Genre Rating     Gross  \n",
       "0    Action, Adventure, Comedy    7.9   $72.86M  \n",
       "1                        Drama    7.8   111,780  \n",
       "2                Comedy, Drama    7.7   182,267  \n",
       "3                Comedy, Drama    7.4   114,249  \n",
       "4       Comedy, Drama, History    7.2    99,112  \n",
       "..                         ...    ...       ...  \n",
       "245            Comedy, Fantasy    6.9  $113.50M  \n",
       "246  Adventure, Drama, Mystery    6.5   $50.19M  \n",
       "247  Action, Adventure, Sci-Fi    6.8  $172.06M  \n",
       "248  Action, Adventure, Comedy    7.6  $389.81M  \n",
       "249             Drama, Romance    7.3    $9.74M  \n",
       "\n",
       "[250 rows x 6 columns]"
      ]
     },
     "execution_count": 17,
     "metadata": {},
     "output_type": "execute_result"
    }
   ],
   "source": [
    "imdb_df"
   ]
  },
  {
   "cell_type": "code",
   "execution_count": 18,
   "id": "b50c544e",
   "metadata": {},
   "outputs": [],
   "source": [
    "#save outputs into excel file\n",
    "imdb_df.to_csv(\"imdb_data.csv\",index=False)"
   ]
  },
  {
   "cell_type": "code",
   "execution_count": null,
   "id": "ac55837d",
   "metadata": {},
   "outputs": [],
   "source": []
  }
 ],
 "metadata": {
  "kernelspec": {
   "display_name": "Python 3 (ipykernel)",
   "language": "python",
   "name": "python3"
  },
  "language_info": {
   "codemirror_mode": {
    "name": "ipython",
    "version": 3
   },
   "file_extension": ".py",
   "mimetype": "text/x-python",
   "name": "python",
   "nbconvert_exporter": "python",
   "pygments_lexer": "ipython3",
   "version": "3.9.13"
  }
 },
 "nbformat": 4,
 "nbformat_minor": 5
}
